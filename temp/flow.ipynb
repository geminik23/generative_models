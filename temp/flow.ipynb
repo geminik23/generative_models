{
 "cells": [
  {
   "cell_type": "code",
   "execution_count": 5,
   "metadata": {},
   "outputs": [],
   "source": [
    "import torch\n",
    "import torch.nn as nn\n",
    "import torch.distributions as distrib\n",
    "import matplotlib.pyplot as plt"
   ]
  },
  {
   "cell_type": "code",
   "execution_count": 3,
   "metadata": {},
   "outputs": [],
   "source": [
    "norm = distrib.Normal(0,1)"
   ]
  },
  {
   "cell_type": "code",
   "execution_count": 7,
   "metadata": {},
   "outputs": [],
   "source": [
    "x = torch.linspace(-4, 4, 1000)\n",
    "pdf_norm = torch.exp(norm.log_prob(x))"
   ]
  },
  {
   "cell_type": "code",
   "execution_count": 11,
   "metadata": {},
   "outputs": [
    {
     "data": {
      "image/png": "[encoded data removed]",
      "text/plain": [
       "<Figure size 300x200 with 1 Axes>"
      ]
     },
     "metadata": {},
     "output_type": "display_data"
    }
   ],
   "source": [
    "plt.figure(figsize=(3,2))\n",
    "plt.plot(pdf_norm)\n",
    "plt.show()"
   ]
  },
  {
   "cell_type": "code",
   "execution_count": 12,
   "metadata": {},
   "outputs": [
    {
     "data": {
      "text/plain": [
       "MultivariateNormal(loc: torch.Size([2]), covariance_matrix: torch.Size([2, 2]))"
      ]
     },
     "execution_count": 12,
     "metadata": {},
     "output_type": "execute_result"
    }
   ],
   "source": [
    "q0 = distrib.MultivariateNormal(torch.zeros(2), torch.eye(2))"
   ]
  },
  {
   "cell_type": "code",
   "execution_count": 19,
   "metadata": {},
   "outputs": [
    {
     "name": "stdout",
     "output_type": "stream",
     "text": [
      "(2, 9, 9)\n",
      "[[[-4. -4.]\n",
      "  [-3. -4.]\n",
      "  [-2. -4.]\n",
      "  [-1. -4.]\n",
      "  [ 0. -4.]\n",
      "  [ 1. -4.]\n",
      "  [ 2. -4.]\n",
      "  [ 3. -4.]\n",
      "  [ 4. -4.]]\n",
      "\n",
      " [[-4. -3.]\n",
      "  [-3. -3.]\n",
      "  [-2. -3.]\n",
      "  [-1. -3.]\n",
      "  [ 0. -3.]\n",
      "  [ 1. -3.]\n",
      "  [ 2. -3.]\n",
      "  [ 3. -3.]\n",
      "  [ 4. -3.]]\n",
      "\n",
      " [[-4. -2.]\n",
      "  [-3. -2.]\n",
      "  [-2. -2.]\n",
      "  [-1. -2.]\n",
      "  [ 0. -2.]\n",
      "  [ 1. -2.]\n",
      "  [ 2. -2.]\n",
      "  [ 3. -2.]\n",
      "  [ 4. -2.]]\n",
      "\n",
      " [[-4. -1.]\n",
      "  [-3. -1.]\n",
      "  [-2. -1.]\n",
      "  [-1. -1.]\n",
      "  [ 0. -1.]\n",
      "  [ 1. -1.]\n",
      "  [ 2. -1.]\n",
      "  [ 3. -1.]\n",
      "  [ 4. -1.]]\n",
      "\n",
      " [[-4.  0.]\n",
      "  [-3.  0.]\n",
      "  [-2.  0.]\n",
      "  [-1.  0.]\n",
      "  [ 0.  0.]\n",
      "  [ 1.  0.]\n",
      "  [ 2.  0.]\n",
      "  [ 3.  0.]\n",
      "  [ 4.  0.]]\n",
      "\n",
      " [[-4.  1.]\n",
      "  [-3.  1.]\n",
      "  [-2.  1.]\n",
      "  [-1.  1.]\n",
      "  [ 0.  1.]\n",
      "  [ 1.  1.]\n",
      "  [ 2.  1.]\n",
      "  [ 3.  1.]\n",
      "  [ 4.  1.]]\n",
      "\n",
      " [[-4.  2.]\n",
      "  [-3.  2.]\n",
      "  [-2.  2.]\n",
      "  [-1.  2.]\n",
      "  [ 0.  2.]\n",
      "  [ 1.  2.]\n",
      "  [ 2.  2.]\n",
      "  [ 3.  2.]\n",
      "  [ 4.  2.]]\n",
      "\n",
      " [[-4.  3.]\n",
      "  [-3.  3.]\n",
      "  [-2.  3.]\n",
      "  [-1.  3.]\n",
      "  [ 0.  3.]\n",
      "  [ 1.  3.]\n",
      "  [ 2.  3.]\n",
      "  [ 3.  3.]\n",
      "  [ 4.  3.]]\n",
      "\n",
      " [[-4.  4.]\n",
      "  [-3.  4.]\n",
      "  [-2.  4.]\n",
      "  [-1.  4.]\n",
      "  [ 0.  4.]\n",
      "  [ 1.  4.]\n",
      "  [ 2.  4.]\n",
      "  [ 3.  4.]\n",
      "  [ 4.  4.]]]\n",
      "(81, 2)\n"
     ]
    }
   ],
   "source": [
    "## Grid\n",
    "\n",
    "import numpy as np\n",
    "x = np.linspace(-4, 4, 9)\n",
    "z = np.array(np.meshgrid(x, x))\n",
    "print(z.shape)\n",
    "z= z.transpose(1, 2, 0)\n",
    "print(z)\n",
    "z = np.reshape(z, [z.shape[0] * z.shape[1], -1])\n",
    "print(z.shape)"
   ]
  },
  {
   "cell_type": "code",
   "execution_count": null,
   "metadata": {},
   "outputs": [],
   "source": []
  }
 ],
 "metadata": {
  "kernelspec": {
   "display_name": "base",
   "language": "python",
   "name": "python3"
  },
  "language_info": {
   "codemirror_mode": {
    "name": "ipython",
    "version": 3
   },
   "file_extension": ".py",
   "mimetype": "text/x-python",
   "name": "python",
   "nbconvert_exporter": "python",
   "pygments_lexer": "ipython3",
   "version": "3.10.12"
  }
 },
 "nbformat": 4,
 "nbformat_minor": 2
}
